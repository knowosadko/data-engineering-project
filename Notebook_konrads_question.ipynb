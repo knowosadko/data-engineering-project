{
 "cells": [
  {
   "cell_type": "markdown",
   "id": "e21d5d94",
   "metadata": {},
   "source": [
    "# Question: What is the text-based sentiment of reddit comments? How text-based sentiment is correlated with number of upvotes?"
   ]
  },
  {
   "cell_type": "code",
   "execution_count": 1,
   "id": "9ae3fb21",
   "metadata": {},
   "outputs": [
    {
     "name": "stderr",
     "output_type": "stream",
     "text": [
      "[nltk_data] Downloading package vader_lexicon to\n",
      "[nltk_data]     /home/ubuntu/nltk_data...\n",
      "[nltk_data]   Package vader_lexicon is already up-to-date!\n",
      "/opt/spark/conf/spark-env.sh: line 79: export: `192.168.2.186': not a valid identifier\n",
      "Setting default log level to \"WARN\".\n",
      "To adjust logging level use sc.setLogLevel(newLevel). For SparkR, use setLogLevel(newLevel).\n"
     ]
    },
    {
     "name": "stdout",
     "output_type": "stream",
     "text": [
      "23/03/13 15:01:18 WARN NativeCodeLoader: Unable to load native-hadoop library for your platform... using builtin-java classes where applicable\n"
     ]
    }
   ],
   "source": [
    "from pyspark.sql import SparkSession\n",
    "from operator import add\n",
    "from nltk.sentiment import SentimentIntensityAnalyzer\n",
    "import nltk \n",
    "nltk.download('vader_lexicon')\n",
    "\n",
    "spark = SparkSession.builder\\\n",
    "        .master(\"spark://192.168.2.186:7077\") \\\n",
    "        .appName(\"Group14_Application\")\\\n",
    "        .config(\"spark.cores.max\", 4)\\\n",
    "        .getOrCreate()\n"
   ]
  },
  {
   "cell_type": "code",
   "execution_count": 2,
   "id": "9c249821",
   "metadata": {},
   "outputs": [],
   "source": [
    "import matplotlib.pyplot as plt"
   ]
  },
  {
   "cell_type": "markdown",
   "id": "d0e0172a",
   "metadata": {},
   "source": [
    "## Load data and intilize sentiment analyzer"
   ]
  },
  {
   "cell_type": "code",
   "execution_count": 3,
   "id": "97957585",
   "metadata": {},
   "outputs": [],
   "source": [
    "sia = SentimentIntensityAnalyzer()"
   ]
  },
  {
   "cell_type": "code",
   "execution_count": 4,
   "id": "52683047",
   "metadata": {},
   "outputs": [
    {
     "name": "stderr",
     "output_type": "stream",
     "text": [
      "                                                                                \r"
     ]
    }
   ],
   "source": [
    "data = spark.read.json(\"sample_data.json\") # Load the sample data"
   ]
  },
  {
   "cell_type": "code",
   "execution_count": 5,
   "id": "291e4549",
   "metadata": {},
   "outputs": [
    {
     "name": "stdout",
     "output_type": "stream",
     "text": [
      "-RECORD 0--------------------------------------\n",
      " author                 | Dethcola             \n",
      " author_cakeday         | null                 \n",
      " author_flair_css_class |                      \n",
      " author_flair_text      | Clairemont           \n",
      " body                   | A quarry             \n",
      " can_gild               | true                 \n",
      " controversiality       | 0                    \n",
      " created_utc            | 1506816000           \n",
      " distinguished          | null                 \n",
      " edited                 | false                \n",
      " gilded                 | 0                    \n",
      " id                     | dnqik14              \n",
      " is_submitter           | false                \n",
      " link_id                | t3_73ieyz            \n",
      " parent_id              | t3_73ieyz            \n",
      " permalink              | /r/sandiego/comme... \n",
      " retrieved_on           | 1509189606           \n",
      " score                  | 3                    \n",
      " stickied               | false                \n",
      " subreddit              | sandiego             \n",
      " subreddit_id           | t5_2qq2q             \n",
      "-RECORD 1--------------------------------------\n",
      " author                 | PennyBotV2           \n",
      " author_cakeday         | null                 \n",
      " author_flair_css_class | flair2-penny1        \n",
      " author_flair_text      | The Bot              \n",
      " body                   | [Salutations! I'm... \n",
      " can_gild               | true                 \n",
      " controversiality       | 0                    \n",
      " created_utc            | 1506816000           \n",
      " distinguished          | null                 \n",
      " edited                 | false                \n",
      " gilded                 | 0                    \n",
      " id                     | dnqik15              \n",
      " is_submitter           | false                \n",
      " link_id                | t3_73g740            \n",
      " parent_id              | t1_dnqiiv7           \n",
      " permalink              | /r/RWBY/comments/... \n",
      " retrieved_on           | 1509189606           \n",
      " score                  | 3                    \n",
      " stickied               | false                \n",
      " subreddit              | RWBY                 \n",
      " subreddit_id           | t5_2vhg0             \n",
      "-RECORD 2--------------------------------------\n",
      " author                 | Sir_Firebum          \n",
      " author_cakeday         | null                 \n",
      " author_flair_css_class | HOU-wagon            \n",
      " author_flair_text      | Astros Bandwagon     \n",
      " body                   | I got into baseba... \n",
      " can_gild               | true                 \n",
      " controversiality       | 0                    \n",
      " created_utc            | 1506816000           \n",
      " distinguished          | null                 \n",
      " edited                 | false                \n",
      " gilded                 | 0                    \n",
      " id                     | dnqik16              \n",
      " is_submitter           | false                \n",
      " link_id                | t3_73hlwn            \n",
      " parent_id              | t1_dnqc3lu           \n",
      " permalink              | /r/baseball/comme... \n",
      " retrieved_on           | 1509189606           \n",
      " score                  | 2                    \n",
      " stickied               | false                \n",
      " subreddit              | baseball             \n",
      " subreddit_id           | t5_2qm7u             \n",
      "-RECORD 3--------------------------------------\n",
      " author                 | deanzynut            \n",
      " author_cakeday         | null                 \n",
      " author_flair_css_class | woodcutting          \n",
      " author_flair_text      | 99 wcing btw         \n",
      " body                   | FUCKING TORY         \n",
      " can_gild               | true                 \n",
      " controversiality       | 0                    \n",
      " created_utc            | 1506816000           \n",
      " distinguished          | null                 \n",
      " edited                 | false                \n",
      " gilded                 | 0                    \n",
      " id                     | dnqik17              \n",
      " is_submitter           | true                 \n",
      " link_id                | t3_73gw9b            \n",
      " parent_id              | t1_dnqdo99           \n",
      " permalink              | /r/2007scape/comm... \n",
      " retrieved_on           | 1509189606           \n",
      " score                  | 18                   \n",
      " stickied               | false                \n",
      " subreddit              | 2007scape            \n",
      " subreddit_id           | t5_2wbww             \n",
      "-RECORD 4--------------------------------------\n",
      " author                 | OfullOstomacheO      \n",
      " author_cakeday         | null                 \n",
      " author_flair_css_class | null                 \n",
      " author_flair_text      | null                 \n",
      " body                   | I see a water dra... \n",
      " can_gild               | true                 \n",
      " controversiality       | 0                    \n",
      " created_utc            | 1506816000           \n",
      " distinguished          | null                 \n",
      " edited                 | false                \n",
      " gilded                 | 0                    \n",
      " id                     | dnqik18              \n",
      " is_submitter           | false                \n",
      " link_id                | t3_73i6z3            \n",
      " parent_id              | t3_73i6z3            \n",
      " permalink              | /r/mildlyinterest... \n",
      " retrieved_on           | 1509189606           \n",
      " score                  | 1                    \n",
      " stickied               | false                \n",
      " subreddit              | mildlyinteresting    \n",
      " subreddit_id           | t5_2ti4h             \n",
      "-RECORD 5--------------------------------------\n",
      " author                 | PlusOn3              \n",
      " author_cakeday         | null                 \n",
      " author_flair_css_class | green                \n",
      " author_flair_text      | Sub 2:30 4x4 (2ce... \n",
      " body                   | Wait. The Michiga... \n",
      " can_gild               | true                 \n",
      " controversiality       | 0                    \n",
      " created_utc            | 1506816000           \n",
      " distinguished          | null                 \n",
      " edited                 | false                \n",
      " gilded                 | 0                    \n",
      " id                     | dnqik19              \n",
      " is_submitter           | false                \n",
      " link_id                | t3_73g65l            \n",
      " parent_id              | t1_dnq4z9q           \n",
      " permalink              | /r/Cubers/comment... \n",
      " retrieved_on           | 1509189606           \n",
      " score                  | 1                    \n",
      " stickied               | false                \n",
      " subreddit              | Cubers               \n",
      " subreddit_id           | t5_2r6a3             \n",
      "-RECORD 6--------------------------------------\n",
      " author                 | yeee_bot             \n",
      " author_cakeday         | null                 \n",
      " author_flair_css_class | null                 \n",
      " author_flair_text      | null                 \n",
      " body                   | ye fam               \n",
      " can_gild               | true                 \n",
      " controversiality       | 0                    \n",
      " created_utc            | 1506816000           \n",
      " distinguished          | null                 \n",
      " edited                 | false                \n",
      " gilded                 | 0                    \n",
      " id                     | dnqik1a              \n",
      " is_submitter           | false                \n",
      " link_id                | t3_73hvr0            \n",
      " parent_id              | t1_dnqijyp           \n",
      " permalink              | /r/teenagers/comm... \n",
      " retrieved_on           | 1509189606           \n",
      " score                  | 2                    \n",
      " stickied               | false                \n",
      " subreddit              | teenagers            \n",
      " subreddit_id           | t5_2rjli             \n",
      "-RECORD 7--------------------------------------\n",
      " author                 | grrrrreat            \n",
      " author_cakeday         | null                 \n",
      " author_flair_css_class | null                 \n",
      " author_flair_text      | null                 \n",
      " body                   | 143417804| &gt; U... \n",
      " can_gild               | true                 \n",
      " controversiality       | 0                    \n",
      " created_utc            | 1506816000           \n",
      " distinguished          | null                 \n",
      " edited                 | false                \n",
      " gilded                 | 0                    \n",
      " id                     | dnqik1b              \n",
      " is_submitter           | true                 \n",
      " link_id                | t3_73dvyh            \n",
      " parent_id              | t3_73dvyh            \n",
      " permalink              | /r/4chan4trump/co... \n",
      " retrieved_on           | 1509189606           \n",
      " score                  | 1                    \n",
      " stickied               | false                \n",
      " subreddit              | 4chan4trump          \n",
      " subreddit_id           | t5_3hds7             \n",
      "-RECORD 8--------------------------------------\n",
      " author                 | psych4191            \n",
      " author_cakeday         | null                 \n",
      " author_flair_css_class | mississippistate-... \n",
      " author_flair_text      | Mississippi State... \n",
      " body                   | That is some chic... \n",
      " can_gild               | true                 \n",
      " controversiality       | 0                    \n",
      " created_utc            | 1506816000           \n",
      " distinguished          | null                 \n",
      " edited                 | false                \n",
      " gilded                 | 0                    \n",
      " id                     | dnqik1c              \n",
      " is_submitter           | false                \n",
      " link_id                | t3_73hgz4            \n",
      " parent_id              | t3_73hgz4            \n",
      " permalink              | /r/CFB/comments/7... \n",
      " retrieved_on           | 1509189606           \n",
      " score                  | 2                    \n",
      " stickied               | false                \n",
      " subreddit              | CFB                  \n",
      " subreddit_id           | t5_2qm9d             \n",
      "-RECORD 9--------------------------------------\n",
      " author                 | fishboy2000          \n",
      " author_cakeday         | null                 \n",
      " author_flair_css_class | northland            \n",
      " author_flair_text      | Northland            \n",
      " body                   | Does he even know... \n",
      " can_gild               | true                 \n",
      " controversiality       | 0                    \n",
      " created_utc            | 1506816000           \n",
      " distinguished          | null                 \n",
      " edited                 | false                \n",
      " gilded                 | 0                    \n",
      " id                     | dnqik1d              \n",
      " is_submitter           | false                \n",
      " link_id                | t3_73feje            \n",
      " parent_id              | t1_dnqick7           \n",
      " permalink              | /r/rugbyunion/com... \n",
      " retrieved_on           | 1509189606           \n",
      " score                  | 1                    \n",
      " stickied               | false                \n",
      " subreddit              | rugbyunion           \n",
      " subreddit_id           | t5_2qkbe             \n",
      "-RECORD 10-------------------------------------\n",
      " author                 | raspberryseltzer     \n",
      " author_cakeday         | null                 \n",
      " author_flair_css_class | alabama-sheet1-ro... \n",
      " author_flair_text      | Alabama Crimson T... \n",
      " body                   | Tequila.             \n",
      " can_gild               | true                 \n",
      " controversiality       | 0                    \n",
      " created_utc            | 1506816000           \n",
      " distinguished          | null                 \n",
      " edited                 | false                \n",
      " gilded                 | 0                    \n",
      " id                     | dnqik1e              \n",
      " is_submitter           | false                \n",
      " link_id                | t3_73hgz4            \n",
      " parent_id              | t1_dnqihjg           \n",
      " permalink              | /r/CFB/comments/7... \n",
      " retrieved_on           | 1509189606           \n",
      " score                  | 2                    \n",
      " stickied               | false                \n",
      " subreddit              | CFB                  \n",
      " subreddit_id           | t5_2qm9d             \n",
      "-RECORD 11-------------------------------------\n",
      " author                 | Atherix              \n",
      " author_cakeday         | null                 \n",
      " author_flair_css_class | null                 \n",
      " author_flair_text      | null                 \n",
      " body                   | your heart beats ... \n",
      " can_gild               | true                 \n",
      " controversiality       | 0                    \n",
      " created_utc            | 1506816000           \n",
      " distinguished          | null                 \n",
      " edited                 | false                \n",
      " gilded                 | 0                    \n",
      " id                     | dnqik1g              \n",
      " is_submitter           | false                \n",
      " link_id                | t3_72gjlv            \n",
      " parent_id              | t1_dnmsg5o           \n",
      " permalink              | /r/EchoArena/comm... \n",
      " retrieved_on           | 1509189606           \n",
      " score                  | 1                    \n",
      " stickied               | false                \n",
      " subreddit              | EchoArena            \n",
      " subreddit_id           | t5_3lww9             \n",
      "-RECORD 12-------------------------------------\n",
      " author                 | Selash               \n",
      " author_cakeday         | null                 \n",
      " author_flair_css_class | null                 \n",
      " author_flair_text      | null                 \n",
      " body                   | &gt; Subscribe: /... \n",
      " can_gild               | true                 \n",
      " controversiality       | 0                    \n",
      " created_utc            | 1506816000           \n",
      " distinguished          | null                 \n",
      " edited                 | false                \n",
      " gilded                 | 0                    \n",
      " id                     | dnqik1h              \n",
      " is_submitter           | false                \n",
      " link_id                | t3_6vtt29            \n",
      " parent_id              | t1_dm35vvb           \n",
      " permalink              | /r/HFY/comments/6... \n",
      " retrieved_on           | 1509189606           \n",
      " score                  | 1                    \n",
      " stickied               | false                \n",
      " subreddit              | HFY                  \n",
      " subreddit_id           | t5_2y95n             \n",
      "-RECORD 13-------------------------------------\n",
      " author                 | GonadusTwistus       \n",
      " author_cakeday         | null                 \n",
      " author_flair_css_class | kekistan             \n",
      " author_flair_text      | KEK                  \n",
      " body                   | you're really ign... \n",
      " can_gild               | true                 \n",
      " controversiality       | 0                    \n",
      " created_utc            | 1506816000           \n",
      " distinguished          | null                 \n",
      " edited                 | false                \n",
      " gilded                 | 0                    \n",
      " id                     | dnqik1i              \n",
      " is_submitter           | false                \n",
      " link_id                | t3_73gqbr            \n",
      " parent_id              | t1_dnqi73k           \n",
      " permalink              | /r/The_Donald/com... \n",
      " retrieved_on           | 1509189606           \n",
      " score                  | 2                    \n",
      " stickied               | false                \n",
      " subreddit              | The_Donald           \n",
      " subreddit_id           | t5_38unr             \n",
      "-RECORD 14-------------------------------------\n",
      " author                 | ithinkisaidtoomuch   \n",
      " author_cakeday         | null                 \n",
      " author_flair_css_class | null                 \n",
      " author_flair_text      | null                 \n",
      " body                   | lets see how deep... \n",
      " can_gild               | true                 \n",
      " controversiality       | 0                    \n",
      " created_utc            | 1506816000           \n",
      " distinguished          | null                 \n",
      " edited                 | false                \n",
      " gilded                 | 0                    \n",
      " id                     | dnqik1j              \n",
      " is_submitter           | false                \n",
      " link_id                | t3_73bnqg            \n",
      " parent_id              | t1_dnqhxny           \n",
      " permalink              | /r/CrazyIdeas/com... \n",
      " retrieved_on           | 1509189606           \n",
      " score                  | 1                    \n",
      " stickied               | false                \n",
      " subreddit              | CrazyIdeas           \n",
      " subreddit_id           | t5_2snxj             \n",
      "-RECORD 15-------------------------------------\n",
      " author                 | Brgisme              \n",
      " author_cakeday         | null                 \n",
      " author_flair_css_class | bronze               \n",
      " author_flair_text      |                      \n",
      " body                   | You are arguing t... \n",
      " can_gild               | true                 \n",
      " controversiality       | 0                    \n",
      " created_utc            | 1506816000           \n",
      " distinguished          | null                 \n",
      " edited                 | false                \n",
      " gilded                 | 0                    \n",
      " id                     | dnqik1k              \n",
      " is_submitter           | false                \n",
      " link_id                | t3_73gee6            \n",
      " parent_id              | t1_dnqhyuw           \n",
      " permalink              | /r/NBA2k/comments... \n",
      " retrieved_on           | 1509189606           \n",
      " score                  | 2                    \n",
      " stickied               | false                \n",
      " subreddit              | NBA2k                \n",
      " subreddit_id           | t5_2s84e             \n",
      "-RECORD 16-------------------------------------\n",
      " author                 | phasedarrray         \n",
      " author_cakeday         | null                 \n",
      " author_flair_css_class | null                 \n",
      " author_flair_text      | null                 \n",
      " body                   | I'm thinking abou... \n",
      " can_gild               | true                 \n",
      " controversiality       | 0                    \n",
      " created_utc            | 1506816000           \n",
      " distinguished          | null                 \n",
      " edited                 | false                \n",
      " gilded                 | 0                    \n",
      " id                     | dnqik1l              \n",
      " is_submitter           | false                \n",
      " link_id                | t3_73ha2n            \n",
      " parent_id              | t3_73ha2n            \n",
      " permalink              | /r/opiates/commen... \n",
      " retrieved_on           | 1509189606           \n",
      " score                  | 2                    \n",
      " stickied               | false                \n",
      " subreddit              | opiates              \n",
      " subreddit_id           | t5_2r0y3             \n",
      "-RECORD 17-------------------------------------\n",
      " author                 | ImagesOfNetwork      \n",
      " author_cakeday         | null                 \n",
      " author_flair_css_class | null                 \n",
      " author_flair_text      | null                 \n",
      " body                   | [Original post](h... \n",
      " can_gild               | true                 \n",
      " controversiality       | 0                    \n",
      " created_utc            | 1506816000           \n",
      " distinguished          | null                 \n",
      " edited                 | false                \n",
      " gilded                 | 0                    \n",
      " id                     | dnqik1m              \n",
      " is_submitter           | true                 \n",
      " link_id                | t3_73ig7g            \n",
      " parent_id              | t3_73ig7g            \n",
      " permalink              | /r/ImagesOfNewZea... \n",
      " retrieved_on           | 1509189606           \n",
      " score                  | 1                    \n",
      " stickied               | false                \n",
      " subreddit              | ImagesOfNewZealand   \n",
      " subreddit_id           | t5_3b6dt             \n",
      "-RECORD 18-------------------------------------\n",
      " author                 | calxllum             \n",
      " author_cakeday         | null                 \n",
      " author_flair_css_class | null                 \n",
      " author_flair_text      | null                 \n",
      " body                   | I think that's a ... \n",
      " can_gild               | true                 \n",
      " controversiality       | 0                    \n",
      " created_utc            | 1506816000           \n",
      " distinguished          | null                 \n",
      " edited                 | false                \n",
      " gilded                 | 0                    \n",
      " id                     | dnqik1n              \n",
      " is_submitter           | false                \n",
      " link_id                | t3_73e1zm            \n",
      " parent_id              | t1_dnqf91t           \n",
      " permalink              | /r/totalwar/comme... \n",
      " retrieved_on           | 1509189606           \n",
      " score                  | 3                    \n",
      " stickied               | false                \n",
      " subreddit              | totalwar             \n",
      " subreddit_id           | t5_2rq9c             \n",
      "-RECORD 19-------------------------------------\n",
      " author                 | Aner123              \n",
      " author_cakeday         | null                 \n",
      " author_flair_css_class | null                 \n",
      " author_flair_text      | null                 \n",
      " body                   | Harp absolutelly.... \n",
      " can_gild               | true                 \n",
      " controversiality       | 0                    \n",
      " created_utc            | 1506816000           \n",
      " distinguished          | null                 \n",
      " edited                 | false                \n",
      " gilded                 | 0                    \n",
      " id                     | dnqik1o              \n",
      " is_submitter           | false                \n",
      " link_id                | t3_64j09n            \n",
      " parent_id              | t3_64j09n            \n",
      " permalink              | /r/tvcrossovers/c... \n",
      " retrieved_on           | 1509189606           \n",
      " score                  | 1                    \n",
      " stickied               | false                \n",
      " subreddit              | tvcrossovers         \n",
      " subreddit_id           | t5_3fkr8             \n",
      "only showing top 20 rows\n",
      "\n"
     ]
    }
   ],
   "source": [
    "data.show(vertical=True) # Show data to see that it loads correctly"
   ]
  },
  {
   "cell_type": "markdown",
   "id": "5d49d64a",
   "metadata": {},
   "source": [
    "Select only three fields of each record, **id**, **body** and **score**."
   ]
  },
  {
   "cell_type": "code",
   "execution_count": 6,
   "id": "10b02e47",
   "metadata": {},
   "outputs": [
    {
     "name": "stdout",
     "output_type": "stream",
     "text": [
      "+-------+--------------------+-----+\n",
      "|     id|                body|score|\n",
      "+-------+--------------------+-----+\n",
      "|dnqik14|            A quarry|    3|\n",
      "|dnqik15|[Salutations! I'm...|    3|\n",
      "|dnqik16|I got into baseba...|    2|\n",
      "|dnqik17|        FUCKING TORY|   18|\n",
      "|dnqik18|I see a water dra...|    1|\n",
      "|dnqik19|Wait. The Michiga...|    1|\n",
      "|dnqik1a|              ye fam|    2|\n",
      "|dnqik1b|143417804| &gt; U...|    1|\n",
      "|dnqik1c|That is some chic...|    2|\n",
      "|dnqik1d|Does he even know...|    1|\n",
      "|dnqik1e|            Tequila.|    2|\n",
      "|dnqik1g|your heart beats ...|    1|\n",
      "|dnqik1h|&gt; Subscribe: /...|    1|\n",
      "|dnqik1i|you're really ign...|    2|\n",
      "|dnqik1j|lets see how deep...|    1|\n",
      "|dnqik1k|You are arguing t...|    2|\n",
      "|dnqik1l|I'm thinking abou...|    2|\n",
      "|dnqik1m|[Original post](h...|    1|\n",
      "|dnqik1n|I think that's a ...|    3|\n",
      "|dnqik1o|Harp absolutelly....|    1|\n",
      "+-------+--------------------+-----+\n",
      "only showing top 20 rows\n",
      "\n"
     ]
    }
   ],
   "source": [
    "body = data.select(\"id\",\"body\",\"score\") # select only three columns\n",
    "body.show()"
   ]
  },
  {
   "cell_type": "markdown",
   "id": "e201adf5",
   "metadata": {},
   "source": [
    "## Sentiment analysis\n",
    "Map will call sentiment analysis function from NLTK package that returns score in range (-1.0,1.0) where negative values are negative sentiment, positive values represent positive sentiment and 0 represents neutral."
   ]
  },
  {
   "cell_type": "code",
   "execution_count": 7,
   "id": "65acdceb",
   "metadata": {},
   "outputs": [],
   "source": [
    "rdd2=body.rdd.map(lambda x: \n",
    "    (x[\"id\"],x[\"body\"],x[\"score\"] ,sia.polarity_scores(x['body'])[\"compound\"])) # create tuple and call NLTK sentiment analysis"
   ]
  },
  {
   "cell_type": "code",
   "execution_count": 8,
   "id": "55f4fbac",
   "metadata": {},
   "outputs": [
    {
     "name": "stderr",
     "output_type": "stream",
     "text": [
      "                                                                                \r"
     ]
    },
    {
     "name": "stdout",
     "output_type": "stream",
     "text": [
      "+-------+--------------------+-----+---------+\n",
      "|     id|                body|score|sentiment|\n",
      "+-------+--------------------+-----+---------+\n",
      "|dnqik14|            A quarry|    3|      0.0|\n",
      "|dnqik15|[Salutations! I'm...|    3|   -0.308|\n",
      "|dnqik16|I got into baseba...|    2|  -0.1531|\n",
      "|dnqik17|        FUCKING TORY|   18|      0.0|\n",
      "|dnqik18|I see a water dra...|    1|      0.0|\n",
      "|dnqik19|Wait. The Michiga...|    1|   0.5291|\n",
      "|dnqik1a|              ye fam|    2|      0.0|\n",
      "|dnqik1b|143417804| &gt; U...|    1|   0.4215|\n",
      "|dnqik1c|That is some chic...|    2|  -0.5574|\n",
      "|dnqik1d|Does he even know...|    1|      0.0|\n",
      "+-------+--------------------+-----+---------+\n",
      "only showing top 10 rows\n",
      "\n"
     ]
    },
    {
     "name": "stderr",
     "output_type": "stream",
     "text": [
      "\r",
      "[Stage 4:>                                                          (0 + 1) / 1]\r",
      "\r",
      "                                                                                \r"
     ]
    }
   ],
   "source": [
    "results=rdd2.toDF([\"id\",\"body\",\"score\",\"sentiment\"])\n",
    "results.show(10)"
   ]
  },
  {
   "cell_type": "code",
   "execution_count": null,
   "id": "f4aa2163",
   "metadata": {},
   "outputs": [],
   "source": [
    "results.write.format(\"csv\").save(\"./konrad_results\") # save the results"
   ]
  },
  {
   "cell_type": "markdown",
   "id": "25896caa",
   "metadata": {},
   "source": [
    "## Distribution of the sentiment\n",
    "Now we will look into how sentiment is distributed, what values ranges are the most common in reddit comments. "
   ]
  },
  {
   "cell_type": "code",
   "execution_count": 10,
   "id": "50450ceb",
   "metadata": {},
   "outputs": [],
   "source": [
    "ranges = [i/10 for i in range(-10,11,1)] # create ranges of values in order"
   ]
  },
  {
   "cell_type": "code",
   "execution_count": 11,
   "id": "8865cc6a",
   "metadata": {},
   "outputs": [],
   "source": [
    "def assign_num(value):\n",
    "    i = 0\n",
    "    while ranges[i] < value:\n",
    "        i+=1\n",
    "    return i"
   ]
  },
  {
   "cell_type": "code",
   "execution_count": 12,
   "id": "cc5beac6",
   "metadata": {},
   "outputs": [],
   "source": [
    "rdd3 = results.rdd.map(lambda x: \n",
    "    (assign_num(x['sentiment']),1)).reduceByKey(add) #  We assign key to  each sentiment value based on the range it belongs to"
   ]
  },
  {
   "cell_type": "code",
   "execution_count": 13,
   "id": "14fbcade",
   "metadata": {},
   "outputs": [
    {
     "name": "stderr",
     "output_type": "stream",
     "text": [
      "                                                                                \r"
     ]
    },
    {
     "data": {
      "text/plain": [
       "[(1, 146),\n",
       " (2, 179),\n",
       " (3, 180),\n",
       " (4, 241),\n",
       " (5, 319),\n",
       " (6, 293),\n",
       " (7, 266),\n",
       " (8, 330),\n",
       " (9, 220),\n",
       " (10, 3649),\n",
       " (11, 181),\n",
       " (12, 199),\n",
       " (13, 367),\n",
       " (14, 503),\n",
       " (15, 718),\n",
       " (16, 455),\n",
       " (17, 511),\n",
       " (18, 455),\n",
       " (19, 441),\n",
       " (20, 347)]"
      ]
     },
     "execution_count": 13,
     "metadata": {},
     "output_type": "execute_result"
    }
   ],
   "source": [
    "sorted(rdd3.take(20))"
   ]
  },
  {
   "cell_type": "markdown",
   "id": "725b04d8",
   "metadata": {},
   "source": [
    "Calculate counts, it is number of occurances of the given key returned by map, reduce operation. It is basically number of occurances of values from the given range."
   ]
  },
  {
   "cell_type": "code",
   "execution_count": 14,
   "id": "ef72576c",
   "metadata": {},
   "outputs": [],
   "source": [
    "counts = [v for (k,v) in sorted(rdd3.take(20))]"
   ]
  },
  {
   "cell_type": "code",
   "execution_count": 15,
   "id": "99c6dd04",
   "metadata": {},
   "outputs": [
    {
     "data": {
      "text/plain": [
       "Text(0.5, 1.0, 'Sentiment distribution')"
      ]
     },
     "execution_count": 15,
     "metadata": {},
     "output_type": "execute_result"
    },
    {
     "data": {
      "image/png": "[encoded data removed]",
      "text/plain": [
       "<Figure size 640x480 with 1 Axes>"
      ]
     },
     "metadata": {},
     "output_type": "display_data"
    }
   ],
   "source": [
    "plt.stairs(counts, ranges, label='Simple histogram') \n",
    "plt.xlabel('Sentiment') \n",
    "plt.ylabel('Number of comments') \n",
    "# displaying the title\n",
    "plt.title(label=\"Sentiment distribution\",\n",
    "          fontsize=10,\n",
    "          color=\"blue\")"
   ]
  },
  {
   "cell_type": "code",
   "execution_count": 32,
   "id": "158dcdff",
   "metadata": {},
   "outputs": [
    {
     "name": "stdout",
     "output_type": "stream",
     "text": [
      "Pos number: 4177, Neg number: 2174, Net_number: 3649\n"
     ]
    }
   ],
   "source": [
    "pos_num = sum(counts[10:])\n",
    "neg_num = sum(counts[:9])\n",
    "net_num = counts[9]\n",
    "print(f'Pos number: {pos_num}, Neg number: {neg_num}, Net_number: {net_num}')"
   ]
  },
  {
   "cell_type": "markdown",
   "id": "253ba0d7",
   "metadata": {},
   "source": [
    "Looking at the distribution we can see that value 0 is the most common, however postive sentiment is more numerous than negative or neutral."
   ]
  },
  {
   "cell_type": "markdown",
   "id": "42bcfa22",
   "metadata": {},
   "source": [
    "## Now lets look at  upvotes vs sentiment"
   ]
  },
  {
   "cell_type": "code",
   "execution_count": 18,
   "id": "cac183f6",
   "metadata": {},
   "outputs": [],
   "source": [
    "def sentiment_conversion(value):\n",
    "    if value < 0:\n",
    "        return 'neg'\n",
    "    elif value == 0:\n",
    "        return 'neut'\n",
    "    else:\n",
    "        return 'pos'\n",
    "# based on the value assign negative, positive or neutral sentiment\n",
    "rdd3 = results.rdd.map(lambda x:  (x[\"id\"],x[\"body\"],x[\"score\"], sentiment_conversion(x['sentiment'])  )) # sia.polarity_scores(x['body'])[\"compound\"]"
   ]
  },
  {
   "cell_type": "code",
   "execution_count": 21,
   "id": "ef4dd674",
   "metadata": {},
   "outputs": [
    {
     "name": "stderr",
     "output_type": "stream",
     "text": [
      "[Stage 17:>                                                         (0 + 1) / 1]\r"
     ]
    },
    {
     "name": "stdout",
     "output_type": "stream",
     "text": [
      "+-------+--------------------+-----+---------+\n",
      "|     id|                body|score|sentiment|\n",
      "+-------+--------------------+-----+---------+\n",
      "|dnqik14|            A quarry|    3|     neut|\n",
      "|dnqik15|[Salutations! I'm...|    3|      neg|\n",
      "|dnqik16|I got into baseba...|    2|      neg|\n",
      "|dnqik17|        FUCKING TORY|   18|     neut|\n",
      "|dnqik18|I see a water dra...|    1|     neut|\n",
      "|dnqik19|Wait. The Michiga...|    1|      pos|\n",
      "|dnqik1a|              ye fam|    2|     neut|\n",
      "|dnqik1b|143417804| &gt; U...|    1|      pos|\n",
      "|dnqik1c|That is some chic...|    2|      neg|\n",
      "|dnqik1d|Does he even know...|    1|     neut|\n",
      "|dnqik1e|            Tequila.|    2|     neut|\n",
      "|dnqik1g|your heart beats ...|    1|      neg|\n",
      "|dnqik1h|&gt; Subscribe: /...|    1|     neut|\n",
      "|dnqik1i|you're really ign...|    2|      neg|\n",
      "|dnqik1j|lets see how deep...|    1|     neut|\n",
      "|dnqik1k|You are arguing t...|    2|      neg|\n",
      "|dnqik1l|I'm thinking abou...|    2|      pos|\n",
      "|dnqik1m|[Original post](h...|    1|      pos|\n",
      "|dnqik1n|I think that's a ...|    3|      neg|\n",
      "|dnqik1o|Harp absolutelly....|    1|      pos|\n",
      "+-------+--------------------+-----+---------+\n",
      "only showing top 20 rows\n",
      "\n"
     ]
    },
    {
     "name": "stderr",
     "output_type": "stream",
     "text": [
      "\r",
      "                                                                                \r"
     ]
    }
   ],
   "source": [
    "results2=rdd3.toDF([\"id\",\"body\",\"score\",\"sentiment\"])\n",
    "results2.show()"
   ]
  },
  {
   "cell_type": "code",
   "execution_count": 26,
   "id": "3e5f677f",
   "metadata": {},
   "outputs": [],
   "source": [
    "rdd4 = results2.rdd.map(lambda x: \n",
    "    (x['sentiment'],1)).reduceByKey(add)"
   ]
  },
  {
   "cell_type": "code",
   "execution_count": 29,
   "id": "a7a5ada1",
   "metadata": {},
   "outputs": [
    {
     "data": {
      "text/plain": [
       "[('neut', 3504), ('neg', 2319), ('pos', 4177)]"
      ]
     },
     "execution_count": 29,
     "metadata": {},
     "output_type": "execute_result"
    }
   ],
   "source": [
    "rdd4.take(3)"
   ]
  },
  {
   "cell_type": "markdown",
   "id": "d08560e4",
   "metadata": {},
   "source": [
    "Looking at above output we can clearly see that the positive comments are getting the highest amount of upvotes and negative comments are getting the lowest amount of upvotes. Moreover looking at previous example that the positive and negative sentiment is the most numerous, we cann "
   ]
  },
  {
   "cell_type": "code",
   "execution_count": null,
   "id": "56c1f1f0",
   "metadata": {},
   "outputs": [],
   "source": []
  }
 ],
 "metadata": {
  "kernelspec": {
   "display_name": "Python 3 (ipykernel)",
   "language": "python",
   "name": "python3"
  },
  "language_info": {
   "codemirror_mode": {
    "name": "ipython",
    "version": 3
   },
   "file_extension": ".py",
   "mimetype": "text/x-python",
   "name": "python",
   "nbconvert_exporter": "python",
   "pygments_lexer": "ipython3",
   "version": "3.10.6"
  }
 },
 "nbformat": 4,
 "nbformat_minor": 5
}
